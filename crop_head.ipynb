{
  "nbformat": 4,
  "nbformat_minor": 0,
  "metadata": {
    "colab": {
      "private_outputs": true,
      "provenance": [],
      "authorship_tag": "ABX9TyPLlSWPyBLQMoSOPbAahl87",
      "include_colab_link": true
    },
    "kernelspec": {
      "name": "python3",
      "display_name": "Python 3"
    },
    "language_info": {
      "name": "python"
    }
  },
  "cells": [
    {
      "cell_type": "markdown",
      "metadata": {
        "id": "view-in-github",
        "colab_type": "text"
      },
      "source": [
        "<a href=\"https://colab.research.google.com/github/yoonyerin/find_my_lover/blob/master/crop_head.ipynb\" target=\"_parent\"><img src=\"https://colab.research.google.com/assets/colab-badge.svg\" alt=\"Open In Colab\"/></a>"
      ]
    },
    {
      "cell_type": "code",
      "execution_count": null,
      "metadata": {
        "id": "5bnOxTeTdJxb"
      },
      "outputs": [],
      "source": [
        "!pip install Pillow"
      ]
    },
    {
      "cell_type": "code",
      "source": [
        "from google.colab import drive\n",
        "drive.mount('/content/drive')"
      ],
      "metadata": {
        "id": "v9RetTNPdZyY"
      },
      "execution_count": null,
      "outputs": []
    },
    {
      "cell_type": "code",
      "source": [
        "import cv2\n",
        "import matplotlib.pyplot as plt\n",
        "import numpy as np\n",
        "import dlib\n",
        "from PIL import Image\n"
      ],
      "metadata": {
        "id": "BR6Q_1M5da1o"
      },
      "execution_count": null,
      "outputs": []
    },
    {
      "cell_type": "markdown",
      "source": [
        "# 1. Data and trained_model(dlib)"
      ],
      "metadata": {
        "id": "Ec2p7PK-h_kD"
      }
    },
    {
      "cell_type": "code",
      "source": [
        "detector_HOG=dlib.get_frontal_face_detector()\n",
        "\n",
        "model_path = \"/content/drive/MyDrive/Find my lover/shape_predictor_68_face_landmarks.dat\"\n",
        "landmark_predictor = dlib.shape_predictor(model_path)\n",
        "\n",
        "men_folder=\"/content/drive/MyDrive/Find my lover/men/\"\n",
        "\n",
        "for i in range(50):\n",
        "  image_path = str(i+1)+\".jpg\"\n",
        "  image=Image.open(men_folder+image_path).convert(\"RGB\")\n",
        "  image.save(str(i+1)+\".png\", \"png\")\n",
        "  image_path=image_path.split(\".\")[0]+\".png\"\n",
        "\n",
        "  img_cv = cv2.cvtColor(cv2.imread(image_path), cv2.COLOR_BGR2RGB)\t\t# openCV로 이미지를 불러온기\n"
      ],
      "metadata": {
        "id": "s1siMWVue1rq"
      },
      "execution_count": null,
      "outputs": []
    },
    {
      "cell_type": "markdown",
      "source": [
        "# 2. Image Data Print"
      ],
      "metadata": {
        "id": "fTIz_YKpiMmn"
      }
    },
    {
      "cell_type": "code",
      "source": [
        "\n",
        "img_list=[]\n",
        "for i in range(50):\n",
        "  image_path=str(i+1)+\".png\"\n",
        "  img_list.append(cv2.cvtColor(cv2.imread(image_path), cv2.COLOR_BGR2RGB))\n",
        "\n",
        "fig, axs=plt.subplots(10, 5, figsize=(20, 20))\n",
        "for i in range(10):\n",
        "  for j in range(5):\n",
        "    axs[i, j].imshow(img_list[i*5+j])\n",
        "\n",
        "plt.show()"
      ],
      "metadata": {
        "id": "kqDX80ybeIzB"
      },
      "execution_count": null,
      "outputs": []
    },
    {
      "cell_type": "code",
      "source": [
        "safe_img_list=[]\n",
        "cropping_face=[]"
      ],
      "metadata": {
        "id": "hCMk7Cs46cY0"
      },
      "execution_count": null,
      "outputs": []
    },
    {
      "cell_type": "markdown",
      "source": [
        "# 3. crop head"
      ],
      "metadata": {
        "id": "vy_xpzZDi3D2"
      }
    },
    {
      "cell_type": "code",
      "source": [
        "for i in range(50):\n",
        "  try:\n",
        "    img=img_list[i]\n",
        "    men_dlib_rects=detector_HOG(img, 1)\n",
        "    try: \n",
        "      l=men_dlib_rects[0].left()\n",
        "      t = men_dlib_rects[0].top()\n",
        "      r = men_dlib_rects[0].right()\n",
        "      b = men_dlib_rects[0].bottom()\n",
        "    except IndexError:\n",
        "      print(\"사람이 아닙니당\")\n",
        "\n",
        "    points = landmark_predictor(img, men_dlib_rects[0])\n",
        "      # face landmark 좌표를 저장\n",
        "    list_points = list(map(lambda p: (p.x, p.y), points.parts()))\n",
        "    \n",
        "    point_hair_y=int(list_points[30][1]-(list_points[8][1]-list_points[30][1])*4/3)\n",
        "\n",
        "    img_rgba=cv2.cvtColor(img, cv2.COLOR_RGB2RGBA)\n",
        "    instance_img=img_rgba.copy()\n",
        "\n",
        "    #non_trans.append(instance_img[0][0])\n",
        "\n",
        "    img_skin=img.copy()\n",
        "\n",
        "    img_skin=cv2.cvtColor(img_skin, cv2.COLOR_RGB2YCrCb)\n",
        "\n",
        "    #하한\n",
        "\n",
        "    lower = np.array([0,133,77], dtype = np.uint8)\n",
        "    #상한\n",
        "    upper = np.array([255,173,127], dtype = np.uint8)\n",
        "    skin_mask=cv2.inRange(img_skin, lower, upper)\n",
        "\n",
        "    skin_index=np.where(skin_mask==255)\n",
        "\n",
        "    drop_list_points=[]\n",
        "    for i in range(8): #8이 중간!  =>\n",
        "\n",
        "      x_1, y_1= list_points[i]\n",
        "      x_2, y_2=list_points[i+1]\n",
        "      count=0\n",
        "      for j in range(x_1, x_2):\n",
        "        drop_list_points.append([j, int(y_1+(y_2-y_1)*count/(x_2-x_1))])\n",
        "        count+=1 \n",
        "    for i in range(8, 16): #8이 중간!  =>\n",
        "      x_1, y_1= list_points[i]\n",
        "      x_2, y_2=list_points[i+1]\n",
        "      count=0\n",
        "      for j in range(x_1, x_2):\n",
        "        drop_list_points.append([j, int(y_1+(y_2-y_1)*count/(x_2-x_1))])\n",
        "        count+=1 \n",
        "\n",
        "\n",
        "    instance_img=img_rgba.copy()\n",
        "    background_color=img_rgba[0][0]\n",
        "    hair_colors=[]\n",
        "    for i in range(drop_list_points[0][0], drop_list_points[-1][0]):\n",
        "      hair_colors.append(instance_img[point_hair_y][i])\n",
        "\n",
        "    for i in drop_list_points:\n",
        "      instance_img[i[1]:,i[0]]=(0, 0, 0, 0)\n",
        "    instance_img=img_rgba.copy()\n",
        "    background_color=img_rgba[10][10]\n",
        "\n",
        "    for i in drop_list_points:\n",
        "      instance_img[i[1]:,i[0]]=(0, 0, 0, 0)\n",
        "    for i in range(instance_img.shape[0]):\n",
        "        for j in range(instance_img.shape[1]):\n",
        "          if j>drop_list_points[-1][0] or j<drop_list_points[0][0]:\n",
        "            flag=False\n",
        "            if i<drop_list_points[-1][-1]:\n",
        "              for hair_color in hair_colors:\n",
        "                if all(instance_img[i][j] <= hair_color+[20, 20, 20, 0]) and all(instance_img[i][j]>=hair_color-[20, 20, 20, 0]):\n",
        "                  flag=True\n",
        "              if flag==True: continue\n",
        "            instance_img[i][j]=(0, 0, 0, 0)\n",
        "          elif i>t and i<b:\n",
        "            continue\n",
        "            \n",
        "\n",
        "          if i>t and i<b and j>l and j<r and i in skin_index[0] and j in skin_index[1]:\n",
        "              continue\n",
        "          upper_bound=background_color+[25, 25, 25, 0]\n",
        "          upper_bound[3]=255\n",
        "          lower_bound=background_color-[25, 25, 25, 0]\n",
        "          lower_bound[3]=0\n",
        "          if all(instance_img[i][j] <= upper_bound) and all(instance_img[i][j]>=lower_bound):\n",
        "\n",
        "              instance_img[i][j]=(0, 0, 0, 0)\n",
        "    cropping_face.append(instance_img)\n",
        "    #cropping_face.save(\"/content/drive/MyDrive/Find my lover/test/\"+str(i)+\".png\")\n",
        "    safe_img_list.append(img)\n",
        "  except IndexError:\n",
        "    print(\"index error jump\")\n",
        "    \n"
      ],
      "metadata": {
        "id": "Y0tP_xhPdkc-"
      },
      "execution_count": null,
      "outputs": []
    },
    {
      "cell_type": "code",
      "source": [
        "#for i in cropping_face:\n",
        "#  i.save(\"/content/drive/MyDrive/Find my lover/test/\"+str(i)+\".png\")"
      ],
      "metadata": {
        "id": "9svjkRMW5360"
      },
      "execution_count": null,
      "outputs": []
    },
    {
      "cell_type": "markdown",
      "source": [
        "# 4. crop 결과 출력"
      ],
      "metadata": {
        "id": "h7wPw5FajNe6"
      }
    },
    {
      "cell_type": "code",
      "source": [
        "fig, axs=plt.subplots(len(safe_img_list), 2, figsize=(20, 200))\n",
        "for i in range(len(safe_img_list)):\n",
        "  axs[i, 0].imshow(safe_img_list[i])\n",
        "  axs[i, 1].imshow(cropping_face[i])"
      ],
      "metadata": {
        "id": "1skCgtDsjtz3"
      },
      "execution_count": null,
      "outputs": []
    },
    {
      "cell_type": "code",
      "source": [],
      "metadata": {
        "id": "LaRmfYZZd4Ca"
      },
      "execution_count": null,
      "outputs": []
    }
  ]
}